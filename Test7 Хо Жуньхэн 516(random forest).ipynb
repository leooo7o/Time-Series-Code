{
 "cells": [
  {
   "cell_type": "markdown",
   "id": "682e977e",
   "metadata": {},
   "source": [
    "Импорт пакетов"
   ]
  },
  {
   "cell_type": "code",
   "execution_count": 67,
   "id": "2267388f",
   "metadata": {},
   "outputs": [],
   "source": [
    "from numpy import asarray\n",
    "import pandas as pd\n",
    "from pandas import read_csv\n",
    "from pandas import DataFrame\n",
    "from pandas import concat\n",
    "from sklearn.metrics import mean_absolute_error\n",
    "from sklearn.ensemble import RandomForestRegressor\n",
    "from sklearn.ensemble import GradientBoostingRegressor\n",
    "from matplotlib import pyplot\n",
    "from statsmodels.tsa.holtwinters import ExponentialSmoothing\n",
    "import pandas as pd\n",
    "from datetime import date\n",
    "import numpy as np\n",
    "import datetime"
   ]
  },
  {
   "cell_type": "markdown",
   "id": "4a92d90d",
   "metadata": {},
   "source": [
    "Импорт данных"
   ]
  },
  {
   "cell_type": "code",
   "execution_count": 68,
   "id": "fa6450df",
   "metadata": {},
   "outputs": [],
   "source": [
    "series = pd.read_csv('D:\\data12.csv', header=0, index_col=0)\n",
    "data = pd.DataFrame()\n",
    "data = pd.concat([data,series['Значение']],axis = 1)"
   ]
  },
  {
   "cell_type": "markdown",
   "id": "8c65f657",
   "metadata": {},
   "source": [
    "Определение модели Random forest"
   ]
  },
  {
   "cell_type": "code",
   "execution_count": 69,
   "id": "0bf8b3f8",
   "metadata": {},
   "outputs": [],
   "source": [
    "# transform a time series dataset into a supervised learning dataset\n",
    "def series_to_supervised(data, n_in=1, n_out=1, dropnan=True):\n",
    "    n_vars = 1 if type(data) is list else data.shape[1]\n",
    "    df = pd.DataFrame(data)\n",
    "    cols = list()\n",
    "    # input sequence (t-n, ... t-1)\n",
    "    for i in range(n_in, 0, -1):\n",
    "        cols.append(df.shift(i))\n",
    "    # forecast sequence (t, t+1, ... t+n)\n",
    "    for i in range(0, n_out):\n",
    "        cols.append(df.shift(-i))\n",
    "    # put it all together\n",
    "    agg = pd.concat(cols, axis=1)\n",
    "    # drop rows with NaN values\n",
    "    if dropnan:\n",
    "        agg.dropna(inplace=True)\n",
    "    return agg.values\n",
    "# spl\n",
    "def train_test_split(data, n_test):\n",
    "    return data[:-n_test, :], data[-n_test:, :]\n",
    "def random_forest_forecast(train, testX):\n",
    "    # transform list into array\n",
    "    train = asarray(train)\n",
    "    # split into input and output columns\n",
    "    trainX, trainy = train[:, :-1], train[:, -1]\n",
    "    # fit model\n",
    "    isBoost = False\n",
    "    if isBoost==False :\n",
    "        model = RandomForestRegressor(n_estimators=1000)\n",
    "        model.fit(trainX, trainy)\n",
    "    else:    \n",
    "        model= GradientBoostingRegressor(n_estimators=1000).fit(trainX, trainy)\n",
    "    # make a one-step prediction\n",
    "    yhat = model.predict([testX])\n",
    "    return yhat[0]\n",
    "def walk_forward_validation(data, n_test):\n",
    "    predictions = list()\n",
    "    # split dataset\n",
    "    train, test = train_test_split(data, n_test)\n",
    "    # seed history with training dataset\n",
    "    history = [x for x in train]\n",
    "    # step over each time-step in the test set\n",
    "    for i in range(len(test)):\n",
    "        # split test row into input and output columns\n",
    "        testX, testy = test[i, :-1], test[i, -1]\n",
    "        # fit model on history and make a prediction\n",
    "        yhat = random_forest_forecast(history, testX)\n",
    "        # store forecast in list of predictions\n",
    "        predictions.append(yhat)\n",
    "        # add actual observation to history for the next loop\n",
    "        history.append(test[i])\n",
    "        # summarize progress\n",
    "        print('>expected=%.1f, predicted=%.1f' % (testy, yhat))\n",
    "    # estimate prediction error\n",
    "    error = mean_absolute_error(test[:, -1], predictions)\n",
    "    return error, test[:, -1], predictions"
   ]
  },
  {
   "cell_type": "markdown",
   "id": "83fd87ce",
   "metadata": {},
   "source": [
    "Получение предсказаний модели Random forest"
   ]
  },
  {
   "cell_type": "code",
   "execution_count": 70,
   "id": "62f72d73",
   "metadata": {},
   "outputs": [
    {
     "name": "stdout",
     "output_type": "stream",
     "text": [
      ">expected=1715408.0, predicted=1608735.8\n",
      ">expected=2149000.0, predicted=1692891.2\n",
      ">expected=1778000.0, predicted=1525150.5\n",
      ">expected=2011000.0, predicted=1731378.8\n",
      ">expected=2219000.0, predicted=2051511.3\n",
      ">expected=2115000.0, predicted=2132285.4\n",
      ">expected=2275000.0, predicted=2085339.1\n",
      ">expected=2496000.0, predicted=2178088.1\n",
      ">expected=2513000.0, predicted=2182050.3\n",
      ">expected=2705000.0, predicted=2226094.3\n",
      ">expected=2713000.0, predicted=2337319.4\n",
      ">expected=2083000.0, predicted=1947505.7\n",
      "Time: 0:00:29.756461\n"
     ]
    }
   ],
   "source": [
    "import time\n",
    "t0 = time.time()\n",
    "n_in=12\n",
    "values = data.values\n",
    "\n",
    "data = series_to_supervised(values, n_in=n_in,n_out=1)\n",
    "\n",
    "\n",
    "mae, y, yhat = walk_forward_validation(data, n_in)\n",
    "t = datetime.timedelta(seconds=time.time()-t0)\n",
    "print(f'Time: {t}')"
   ]
  },
  {
   "cell_type": "code",
   "execution_count": null,
   "id": "843b25a1",
   "metadata": {},
   "outputs": [],
   "source": []
  }
 ],
 "metadata": {
  "kernelspec": {
   "display_name": "Python 3 (ipykernel)",
   "language": "python",
   "name": "python3"
  },
  "language_info": {
   "codemirror_mode": {
    "name": "ipython",
    "version": 3
   },
   "file_extension": ".py",
   "mimetype": "text/x-python",
   "name": "python",
   "nbconvert_exporter": "python",
   "pygments_lexer": "ipython3",
   "version": "3.11.5"
  }
 },
 "nbformat": 4,
 "nbformat_minor": 5
}
